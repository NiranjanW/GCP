{
 "cells": [
  {
   "cell_type": "code",
   "execution_count": 36,
   "metadata": {
    "collapsed": false
   },
   "outputs": [
    {
     "name": "stdout",
     "output_type": "stream",
     "text": [
      "ENTER API KEY HERE\n",
      "ENTER-PROJECT-ID-HERE\n"
     ]
    }
   ],
   "source": [
    "APIKEY=\"ENTER API KEY HERE\"\n",
    "print APIKEY\n",
    "\n",
    "\n",
    "PROJECT_ID = \"ENTER-PROJECT-ID-HERE\"\n",
    "print PROJECT_ID "
   ]
  },
  {
   "cell_type": "code",
   "execution_count": 26,
   "metadata": {
    "collapsed": true
   },
   "outputs": [],
   "source": [
    "from googleapiclient.discovery import build"
   ]
  },
  {
   "cell_type": "code",
   "execution_count": 27,
   "metadata": {
    "collapsed": false
   },
   "outputs": [
    {
     "name": "stdout",
     "output_type": "stream",
     "text": [
      "{u'results': [{u'alternatives': [{u'confidence': 0.98267895, u'transcript': u'how old is the Brooklyn Bridge'}]}]}\n",
      "how old is the Brooklyn Bridge\n"
     ]
    }
   ],
   "source": [
    "sservice = build('speech', 'v1beta1', developerKey=APIKEY)\n",
    "response = sservice.speech().syncrecognize(\n",
    "    body={\n",
    "        'config': {\n",
    "            'encoding': 'LINEAR16',\n",
    "            'sampleRate': 16000\n",
    "        },\n",
    "        'audio': {\n",
    "            'uri': 'gs://cloud-training-demos/vision/audio.raw'\n",
    "            }\n",
    "        }).execute()\n",
    "print response\n",
    "print response['results'][0]['alternatives'][0]['transcript']"
   ]
  },
  {
   "cell_type": "code",
   "execution_count": 28,
   "metadata": {
    "collapsed": false
   },
   "outputs": [
    {
     "name": "stdout",
     "output_type": "stream",
     "text": [
      "dog\n",
      "mammal\n",
      "vertebrate\n",
      "dog breed group\n",
      "dog like mammal\n",
      "puppy\n",
      "dog crossbreeds\n"
     ]
    }
   ],
   "source": [
    "\n",
    "# Running Vision API\n",
    "import base64\n",
    "IMAGE=\"gs://cpb103-public-files/noirbree.jpg\"\n",
    "vservice = build('vision', 'v1', developerKey=APIKEY)\n",
    "request = vservice.images().annotate(body={\n",
    "        'requests': [{\n",
    "                'image': {\n",
    "                    'source': {\n",
    "                        'gcs_image_uri': IMAGE\n",
    "                    }\n",
    "                },\n",
    "                'features': [{\n",
    "                    'type': 'LABEL_DETECTION',\n",
    "                    'maxResults': 100,\n",
    "                }]\n",
    "            }],\n",
    "        })\n",
    "outputs = request.execute(num_retries=3)\n",
    "#print outputs\n",
    "\n",
    "for output in outputs['responses'][0]['labelAnnotations']:\n",
    "  print u\"{0}\".format(output['description'])"
   ]
  },
  {
   "cell_type": "code",
   "execution_count": 29,
   "metadata": {
    "collapsed": false
   },
   "outputs": [
    {
     "name": "stdout",
     "output_type": "stream",
     "text": [
      "Added executeTranslate() function.\n"
     ]
    }
   ],
   "source": [
    "def executeTranslate(inputs):\n",
    "  from googleapiclient.discovery import build\n",
    "  service = build('translate', 'v2', developerKey=APIKEY)\n",
    "  translator = service.translations()\n",
    "  outputs = translator.list(source='en', target='es', q=inputs).execute()  \n",
    "  return outputs['translations'][0]['translatedText']\n",
    "\n",
    "print \"Added executeTranslate() function.\""
   ]
  },
  {
   "cell_type": "code",
   "execution_count": 30,
   "metadata": {
    "collapsed": false
   },
   "outputs": [
    {
     "name": "stdout",
     "output_type": "stream",
     "text": [
      "[u'Alice was beginning to get very tired of sitting by her sister on the bank, and of having nothing to do', u'']\n",
      "[u' Once or twice she had peeped into the book her sister was reading, but it had no pictures or conversations in it, \"and what is the use of a book,\" thought Alice, \"without pictures or conversations?\"  So she was considering in her own mind (as well as she could, for the day made her feel very sleepy and stupid), whether the pleasure of making a daisy-chain would be worth the trouble of getting up and picking the daisies, when suddenly a White Rabbit with pink eyes ran close by her', u'']\n",
      "[u'  There was nothing so very remarkable in that, nor did Alice think it so very much out of the way to hear the Rabbit say to itself, \"Oh dear! Oh dear! I shall be too late!\" But when the Rabbit actually took a watch out of its waistcoat-pocket and looked at it and then hurried on, Alice started to her feet, for it flashed across her mind that she had never before seen a rabbit with either a waistcoat-pocket, or a watch to take out of it, and, burning with curiosity, she ran across the field after it and was just in time to see it pop down a large rabbit-hole, under the hedge', u'']\n",
      "[u' In another moment, down went Alice after it', u'']\n"
     ]
    }
   ],
   "source": [
    "alice = sc.textFile(\"gs://cpb103-public-files/alice-short-transformed.txt\")\n",
    "alice = alice.map(lambda x: x.split(\".\"))\n",
    "                  \n",
    "for eachSentence in alice.take(10):\n",
    "  print u\"{0}\".format(eachSentence)"
   ]
  },
  {
   "cell_type": "code",
   "execution_count": 31,
   "metadata": {
    "collapsed": false
   },
   "outputs": [
    {
     "name": "stdout",
     "output_type": "stream",
     "text": [
      "Alice estaba empezando a cansarse de estar sentada por su hermana en la orilla, y de no tener nada que hacer\n",
      "Una o dos veces se había asomado al libro que su hermana estaba leyendo, pero no tenía dibujos ni diálogos en ella, &quot;y lo que es el uso de un libro&quot;, pensó Alicia, &quot;sin dibujos ni diálogos?&quot; Así que estaba pensando en su propia mente (así como pudo, para el día hacía sentirse muy somnoliento y estúpido), si el placer de hacer una conexión en cadena valdría la pena el esfuerzo de levantarse y coger las margaritas, cuando de repente, un conejo blanco con ojos rosas pasó corriendo junto a ella\n",
      "No había nada tan muy notable, ya que, ni le pareció a Alicia por lo mucho fuera del camino para escuchar el conejo se decía a sí mismo, &quot;Oh cielos! ¡Ay! Voy a ser demasiado tarde!&quot; Pero cuando el conejo sacó un reloj fuera de su bolsillo del chaleco y lo miró y luego apretó el paso, Alice empezó a ponerse en pie, ya que cruzó por su mente que ella nunca antes había visto un conejo, ya sea con un bolsillo del chaleco, o un reloj para sacar de ella, y, muerta de curiosidad, corrió a través del campo y después de que fue justo a tiempo para ver cómo se precipitaba en una gran madriguera bajo el seto\n",
      "En otro momento, se fue hacia abajo después de que Alice\n"
     ]
    }
   ],
   "source": [
    "aliceTranslated = alice.map(executeTranslate)\n",
    "\n",
    "for eachSentance in aliceTranslated.take(10):\n",
    "    print u\"{0}\".format(eachSentance)"
   ]
  },
  {
   "cell_type": "code",
   "execution_count": 32,
   "metadata": {
    "collapsed": false
   },
   "outputs": [
    {
     "name": "stdout",
     "output_type": "stream",
     "text": [
      "Added executeSentimentAnalysis() function.\n"
     ]
    }
   ],
   "source": [
    "def executeSentimentAnalysis(quote):\n",
    "    from googleapiclient.discovery import build\n",
    "    lservice = build('language', 'v1beta1', developerKey=APIKEY)\n",
    "\n",
    "    response = lservice.documents().analyzeSentiment(\n",
    "        body={\n",
    "            'document': {\n",
    "                'type': 'PLAIN_TEXT',\n",
    "                'content': quote\n",
    "            }\n",
    "        }).execute()\n",
    "    \n",
    "    return response\n",
    "\n",
    "print \"Added executeSentimentAnalysis() function.\""
   ]
  },
  {
   "cell_type": "code",
   "execution_count": 33,
   "metadata": {
    "collapsed": false
   },
   "outputs": [
    {
     "name": "stdout",
     "output_type": "stream",
     "text": [
      "Imports run.\n"
     ]
    }
   ],
   "source": [
    "import pandas as pd\n",
    "from pandas.io import gbq\n",
    "\n",
    "print \"Imports run.\""
   ]
  },
  {
   "cell_type": "code",
   "execution_count": 34,
   "metadata": {
    "collapsed": false
   },
   "outputs": [
    {
     "name": "stdout",
     "output_type": "stream",
     "text": [
      "Running query...\n",
      "Requesting query... ok.\n",
      "Query running...\n",
      "Query done.\n",
      "Cache hit.\n",
      "\n",
      "Retrieving results...\n",
      "Got 10 rows.\n",
      "\n",
      "Total time taken 0.83 s.\n",
      "Finished at 2017-02-12 22:54:45.\n",
      "[Row(title=u'Lead JavaScript for innovative intelligent learning platform at ExpertKnowledge', text=u'About Us\\nAt ExpertKnowledge, we provide automation platform to extract wisdom and transform it into high-quality online learning courses that are certified and delivered on any device.\\nOur team is looking to add an experienced Front End Engineer to lead the design of our web platform - both mobile and desktop.\\nYou\\u2019ll collaborate with our UX designers to build great user experiences. You will work closely with talented engineers to build a scalable, resilient, and well-designed applications. You\\u2019ll own, architect, and expand key pieces of our platform, mentor junior engineers, and have a huge impact on the product from conception to launch.<p>You will:\\nLead the design and development of next generation content management and publishing platform\\nOwn the front-end of our web platform across desktop and mobile\\nCollaborate with UX Designers, developers and internal stakeholders to build innovative and scalable features\\nMentor members of the team\\nContinuously develop expertise and knowledge on best practices and latest technology trends in software development<p>This describes you:\\nPassionate about designing innovative and functional web applications\\nYou enjoy collaborating on difficult to solve projects and you take pride in creating great software\\nYou sleep and breathe JavaScript, HTML and CSS\\nYou care about performance, scalability, maintainability and the end user\\nParticipate in open source projects \\u2013 we would love to see your GitHub projects\\nYou have sense of humor and you check your ego at the door<p>Qualifications:\\nVery strong web fundamentals, including experience with JavaScript frameworks and REST based API concepts and techniques<p>We would like you to have:\\nFamiliarity with Social Networks APIs and Authentication models, data storage and retrieval methods<p>The Package:\\nGenerous Incentives\\nCompetitive compensation\\nPaid vacation\\nTremendous growth opportunity\\nLocation: Houston, TX<p>Contact: Sebastian\\nsl[at}in[Em dash]acuity.com'), Row(title=u'Landing.js: JavaScript library for create simple landing page with bing api', text=u'Landing.js: Javascript library for create simple landing page with bing api<p>Demo1: http:&#x2F;&#x2F;vah7id.com&#x2F;project&#x2F;Landingjs&#x2F;demo1\\nDemo2: http:&#x2F;&#x2F;vah7id.com&#x2F;project&#x2F;Landingjs&#x2F;demo2')]\n"
     ]
    }
   ],
   "source": [
    "print 'Running query...'\n",
    "df = gbq.read_gbq('SELECT title, text FROM [bigquery-public-data:hacker_news.stories] where text > \" \" and title contains(\"JavaScript\") LIMIT 10', project_id=PROJECT_ID)\n",
    "\n",
    "#Convert Pandas DataFrame to RDD\n",
    "rdd = sqlContext.createDataFrame(df).rdd\n",
    "\n",
    "print rdd.take(2)"
   ]
  },
  {
   "cell_type": "code",
   "execution_count": 35,
   "metadata": {
    "collapsed": false
   },
   "outputs": [
    {
     "name": "stdout",
     "output_type": "stream",
     "text": [
      "Score:0.5 and Magnitde:3.2\n",
      "Score:0.2 and Magnitde:0.2\n",
      "Score:0.2 and Magnitde:0.5\n",
      "Score:0.2 and Magnitde:2.1\n",
      "Score:-0.7 and Magnitde:0.7\n",
      "Score:0.3 and Magnitde:0.6\n",
      "Score:0.2 and Magnitde:1.5\n",
      "Score:-0.5 and Magnitde:0.5\n",
      "Score:0.1 and Magnitde:1\n",
      "Score:0.1 and Magnitde:1.9\n"
     ]
    }
   ],
   "source": [
    "# extract text field from Dictionary\n",
    "comments = rdd.map(lambda x: x[1])\n",
    "sentiments = comments.map(executeSentimentAnalysis)\n",
    "\n",
    "for sentiment in sentiments.collect():\n",
    "    print u\"Score:{0} and Magnitde:{1}\".format(sentiment['documentSentiment']['score'], sentiment['documentSentiment']['magnitude'])"
   ]
  },
  {
   "cell_type": "code",
   "execution_count": null,
   "metadata": {
    "collapsed": true
   },
   "outputs": [],
   "source": []
  }
 ],
 "metadata": {
  "kernelspec": {
   "display_name": "Python 2",
   "language": "python",
   "name": "python2"
  },
  "language_info": {
   "codemirror_mode": {
    "name": "ipython",
    "version": 2
   },
   "file_extension": ".py",
   "mimetype": "text/x-python",
   "name": "python",
   "nbconvert_exporter": "python",
   "pygments_lexer": "ipython2",
   "version": "2.7.9"
  }
 },
 "nbformat": 4,
 "nbformat_minor": 2
}
