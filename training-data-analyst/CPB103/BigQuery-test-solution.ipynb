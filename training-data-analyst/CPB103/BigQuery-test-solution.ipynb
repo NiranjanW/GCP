{
 "cells": [
  {
   "cell_type": "code",
   "execution_count": 1,
   "metadata": {
    "collapsed": false
   },
   "outputs": [
    {
     "name": "stdout",
     "output_type": "stream",
     "text": [
      "100.0\n"
     ]
    }
   ],
   "source": [
    "temp = 212.0\n",
    "\n",
    "def toCelsius(fahrenheit):\n",
    "    return (fahrenheit - 32) * 5.0 / 9.0\n",
    "\n",
    "print toCelsius(temp)"
   ]
  },
  {
   "cell_type": "code",
   "execution_count": 2,
   "metadata": {
    "collapsed": false
   },
   "outputs": [
    {
     "name": "stdout",
     "output_type": "stream",
     "text": [
      "Imports run.\n"
     ]
    }
   ],
   "source": [
    "import pandas as pd\n",
    "from pandas.io import gbq\n",
    "\n",
    "print \"Imports run.\""
   ]
  },
  {
   "cell_type": "code",
   "execution_count": 3,
   "metadata": {
    "collapsed": false
   },
   "outputs": [
    {
     "name": "stdout",
     "output_type": "stream",
     "text": [
      "Running query...\n",
      "Requesting query... ok.\n",
      "Query running...\n",
      "Query done.\n",
      "Processed: 3.5 Gb\n",
      "\n",
      "Retrieving results...\n",
      "Got 50 rows.\n",
      "\n",
      "Total time taken 1.14 s.\n",
      "Finished at 2017-02-12 22:20:13.\n"
     ]
    },
    {
     "data": {
      "text/html": [
       "<div>\n",
       "<table border=\"1\" class=\"dataframe\">\n",
       "  <thead>\n",
       "    <tr style=\"text-align: right;\">\n",
       "      <th></th>\n",
       "      <th>year</th>\n",
       "      <th>month</th>\n",
       "      <th>day</th>\n",
       "      <th>weight_pounds</th>\n",
       "    </tr>\n",
       "  </thead>\n",
       "  <tbody>\n",
       "    <tr>\n",
       "      <th>0</th>\n",
       "      <td>1969</td>\n",
       "      <td>3</td>\n",
       "      <td>9.0</td>\n",
       "      <td>8.875811</td>\n",
       "    </tr>\n",
       "    <tr>\n",
       "      <th>1</th>\n",
       "      <td>1969</td>\n",
       "      <td>3</td>\n",
       "      <td>25.0</td>\n",
       "      <td>7.874912</td>\n",
       "    </tr>\n",
       "    <tr>\n",
       "      <th>2</th>\n",
       "      <td>1969</td>\n",
       "      <td>1</td>\n",
       "      <td>6.0</td>\n",
       "      <td>7.063611</td>\n",
       "    </tr>\n",
       "    <tr>\n",
       "      <th>3</th>\n",
       "      <td>1970</td>\n",
       "      <td>6</td>\n",
       "      <td>8.0</td>\n",
       "      <td>5.813590</td>\n",
       "    </tr>\n",
       "    <tr>\n",
       "      <th>4</th>\n",
       "      <td>1971</td>\n",
       "      <td>8</td>\n",
       "      <td>22.0</td>\n",
       "      <td>5.749656</td>\n",
       "    </tr>\n",
       "  </tbody>\n",
       "</table>\n",
       "</div>"
      ],
      "text/plain": [
       "   year  month   day  weight_pounds\n",
       "0  1969      3   9.0       8.875811\n",
       "1  1969      3  25.0       7.874912\n",
       "2  1969      1   6.0       7.063611\n",
       "3  1970      6   8.0       5.813590\n",
       "4  1971      8  22.0       5.749656"
      ]
     },
     "execution_count": 3,
     "metadata": {},
     "output_type": "execute_result"
    }
   ],
   "source": [
    "projectId = \"YOUR-PROJECT-ID-HERE\"\n",
    "sql = \"SELECT year, month, day, weight_pounds FROM [publicdata:samples.natality] LIMIT 50\"\n",
    "\n",
    "print 'Running query...'\n",
    "data = gbq.read_gbq(sql, project_id=projectId)\n",
    "\n",
    "data[:5]\n"
   ]
  },
  {
   "cell_type": "code",
   "execution_count": null,
   "metadata": {
    "collapsed": true
   },
   "outputs": [],
   "source": []
  }
 ],
 "metadata": {
  "kernelspec": {
   "display_name": "Python 2",
   "language": "python",
   "name": "python2"
  },
  "language_info": {
   "codemirror_mode": {
    "name": "ipython",
    "version": 2
   },
   "file_extension": ".py",
   "mimetype": "text/x-python",
   "name": "python",
   "nbconvert_exporter": "python",
   "pygments_lexer": "ipython2",
   "version": "2.7.9"
  }
 },
 "nbformat": 4,
 "nbformat_minor": 2
}
